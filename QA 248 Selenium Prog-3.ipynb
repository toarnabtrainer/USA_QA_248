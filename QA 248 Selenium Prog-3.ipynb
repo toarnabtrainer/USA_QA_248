{
 "cells": [
  {
   "cell_type": "markdown",
   "id": "029e56f4-e258-4d36-bdc2-1ec254adf95c",
   "metadata": {},
   "source": [
    "### Selenium Code Example - 3/3\n",
    "### Selenium control options to write text, button press, dropdown list, checkbox and others"
   ]
  },
  {
   "cell_type": "code",
   "execution_count": 1,
   "id": "37c63e44-1a22-48f2-aa1e-4030d970a073",
   "metadata": {},
   "outputs": [
    {
     "name": "stdout",
     "output_type": "stream",
     "text": [
      "4.10.0\n"
     ]
    }
   ],
   "source": [
    "# importing all required modules\n",
    "from selenium import webdriver\n",
    "from selenium.webdriver.chrome.service import Service\n",
    "# also check the current version of selenium\n",
    "print (webdriver.__version__)"
   ]
  },
  {
   "cell_type": "code",
   "execution_count": 2,
   "id": "7b648f55-224d-4dd7-8864-d9d8b4963ddf",
   "metadata": {},
   "outputs": [],
   "source": [
    "# at first check wehther the chrome driver is present in the present\n",
    "# folder or not so that we can access it without any path if it is in the present folder,\n",
    "# otherwise we shall have to provide valid or relative path to access it.\n",
    "service = Service(executable_path='./chromedriver.exe')\n",
    "options = webdriver.ChromeOptions()\n",
    "driver = webdriver.Chrome(service=service, options=options)"
   ]
  },
  {
   "cell_type": "code",
   "execution_count": 3,
   "id": "2ee1683a-3f7b-4deb-a3a8-fedde306668a",
   "metadata": {},
   "outputs": [],
   "source": [
    "# now we shall go to another website for our currency conversion\n",
    "# https://www.calculator.net/ -> Click on \"All Calculators\" -> Click on \"Currency Calculator\"\n",
    "driver.get(\"https://www.calculator.net/currency-calculator.html\")"
   ]
  },
  {
   "cell_type": "code",
   "execution_count": 4,
   "id": "53a73afc-7d7b-4c07-84f0-037628c4599e",
   "metadata": {},
   "outputs": [],
   "source": [
    "# import select and checkbox from selenium library to get HTML select tags\n",
    "from selenium.webdriver.support.ui import Select"
   ]
  },
  {
   "cell_type": "code",
   "execution_count": 5,
   "id": "98666fcf-ba6e-47da-ac33-1feee740c4ef",
   "metadata": {},
   "outputs": [],
   "source": [
    "# now select the FROM currency as INR and TO currency as USD from the frop down menu\n",
    "from_currency = Select(driver.find_element('id', 'efrom'))\n",
    "from_currency.select_by_visible_text(\"INR: Indian Rupee\")  # text visible to the user"
   ]
  },
  {
   "cell_type": "code",
   "execution_count": 6,
   "id": "0f324343-e114-4a46-a0dc-89eb08a3e6f6",
   "metadata": {},
   "outputs": [],
   "source": [
    "to_currency = Select(driver.find_element('id', 'eto'))\n",
    "to_currency.select_by_value('USD')  # value is given inside the HTML text"
   ]
  },
  {
   "cell_type": "code",
   "execution_count": 7,
   "id": "577d0fd6-6726-4e36-a40c-c637faba8aea",
   "metadata": {},
   "outputs": [],
   "source": [
    "# put the amount 500\n",
    "amount_textbox = driver.find_element('id', \"eamount\")\n",
    "# clear the text field at first and put the value there\n",
    "amount_textbox.clear()\n",
    "amount_textbox.send_keys('500')"
   ]
  },
  {
   "cell_type": "code",
   "execution_count": 8,
   "id": "84187787-c501-426d-864e-6748123699e7",
   "metadata": {},
   "outputs": [],
   "source": [
    "# click on the calculate button\n",
    "calculate_button = driver.find_element('xpath', '//*[@id=\"standard\"]/tbody/tr[5]/td[2]/input[2]')\n",
    "calculate_button.click()"
   ]
  },
  {
   "cell_type": "code",
   "execution_count": 9,
   "id": "69db694b-db53-4c3a-945d-5042e39f5465",
   "metadata": {},
   "outputs": [],
   "source": [
    "checkbox = driver.find_element('xpath', '//*[@id=\"ccmajorccsettingbox\"]')\n",
    "# if this is already checked then uncheck it by the help of the java script\n",
    "if checkbox.is_selected():\n",
    "    driver.execute_script(\"arguments[0].click()\", checkbox)"
   ]
  },
  {
   "cell_type": "code",
   "execution_count": 10,
   "id": "0d261dd7-0afa-47af-9e37-08ab4a96068a",
   "metadata": {},
   "outputs": [],
   "source": [
    "# change the from currency text to 'ZWL: Zimbabwean Dollar'\n",
    "from_currency = Select(driver.find_element('id', \"efrom\"))\n",
    "from_currency.select_by_value('ZWL')"
   ]
  },
  {
   "cell_type": "code",
   "execution_count": 11,
   "id": "ccc78450-89c9-47f5-b9f9-febb0d0a68b7",
   "metadata": {},
   "outputs": [],
   "source": [
    "# clear the textbox field and then insert value 1000\n",
    "amount_textbox = driver.find_element('id', \"eamount\")\n",
    "amount_textbox.clear()\n",
    "amount_textbox.send_keys('1000')"
   ]
  },
  {
   "cell_type": "code",
   "execution_count": 12,
   "id": "3518bfaf-cf06-4e15-a9f5-75c6c8599232",
   "metadata": {},
   "outputs": [],
   "source": [
    "# click on the command button for conversion calculation\n",
    "calculate_button = driver.find_element('xpath', '//*[@id=\"standard\"]/tbody/tr[5]/td[2]/input[2]')\n",
    "calculate_button.click()"
   ]
  },
  {
   "cell_type": "code",
   "execution_count": 13,
   "id": "34f86f14-04e7-4e6e-911f-f8363b927cea",
   "metadata": {},
   "outputs": [],
   "source": [
    "driver.quit()"
   ]
  }
 ],
 "metadata": {
  "kernelspec": {
   "display_name": "Python 3 (ipykernel)",
   "language": "python",
   "name": "python3"
  },
  "language_info": {
   "codemirror_mode": {
    "name": "ipython",
    "version": 3
   },
   "file_extension": ".py",
   "mimetype": "text/x-python",
   "name": "python",
   "nbconvert_exporter": "python",
   "pygments_lexer": "ipython3",
   "version": "3.10.9"
  }
 },
 "nbformat": 4,
 "nbformat_minor": 5
}
