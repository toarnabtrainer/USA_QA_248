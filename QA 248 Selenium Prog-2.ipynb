{
 "cells": [
  {
   "cell_type": "markdown",
   "id": "e113ce7c-da08-4c1e-8a9b-7e5d6e3b4674",
   "metadata": {},
   "source": [
    "### Selenium Code Example - 2/3"
   ]
  },
  {
   "cell_type": "markdown",
   "id": "bc584027-14d5-4dbc-b091-daa5c46309e4",
   "metadata": {},
   "source": [
    "### Selenium control options to write text, button press, select menu and others"
   ]
  },
  {
   "cell_type": "code",
   "execution_count": 1,
   "id": "92a62b39-316d-41a5-be0b-badb446e971d",
   "metadata": {},
   "outputs": [
    {
     "name": "stdout",
     "output_type": "stream",
     "text": [
      "4.10.0\n"
     ]
    }
   ],
   "source": [
    "# importing all required modules\n",
    "from selenium import webdriver\n",
    "from selenium.webdriver.chrome.service import Service\n",
    "# also check the current version of selenium\n",
    "print (webdriver.__version__)"
   ]
  },
  {
   "cell_type": "code",
   "execution_count": 2,
   "id": "2cb119b5-fa62-48bc-831c-cefe714ab72d",
   "metadata": {},
   "outputs": [],
   "source": [
    "# at first check wehther the chrome driver is present in the present\n",
    "# folder or not so we can access it without any path if it is in the \n",
    "# present folder, otherwise we shall have to provide valid or relative\n",
    "# path to access it.\n",
    "service = Service(executable_path='./chromedriver.exe')\n",
    "options = webdriver.ChromeOptions()\n",
    "driver = webdriver.Chrome(service=service, options=options)"
   ]
  },
  {
   "cell_type": "code",
   "execution_count": 5,
   "id": "6b0e3ebc-06d8-4a42-b783-9ee694aacf58",
   "metadata": {},
   "outputs": [],
   "source": [
    "# open the web portal to calculate nCr operations\n",
    "# https://www.calculatorsoup.com/ -> Discrete Math -> Combinations Calculator (Get the page)\n",
    "URL = 'https://www.calculatorsoup.com/calculators/discretemathematics/combinations.php'\n",
    "driver.get(URL)"
   ]
  },
  {
   "cell_type": "code",
   "execution_count": 6,
   "id": "0cbe61f8-74d4-4e77-886c-9fa58bf3ba79",
   "metadata": {},
   "outputs": [],
   "source": [
    "n_input = driver.find_element(\"id\", \"n\")\n",
    "n_input.clear()\n",
    "n_input.send_keys('10')"
   ]
  },
  {
   "cell_type": "code",
   "execution_count": 10,
   "id": "0703eaea-483f-4e58-a169-1c33188a7d2b",
   "metadata": {},
   "outputs": [],
   "source": [
    "# r_input = driver.find_element(\"id\", \"r\")\n",
    "# r_input.clear()\n",
    "# r_input.send_keys('8')"
   ]
  },
  {
   "cell_type": "code",
   "execution_count": 11,
   "id": "595b5cd1-e8ef-4894-b8c8-106a2aacfa97",
   "metadata": {},
   "outputs": [],
   "source": [
    "# to press keys, we can use the following library\n",
    "from selenium.webdriver.common.keys import Keys\n",
    "\n",
    "# press Tab to go to the next input area\n",
    "n_input.send_keys(Keys.TAB)\n",
    "\n",
    "# select currently selected input area\n",
    "r_input = driver.switch_to.active_element\n",
    "\n",
    "# put the r value inside the text box\n",
    "r_input.send_keys('5')"
   ]
  },
  {
   "cell_type": "code",
   "execution_count": 12,
   "id": "d86635f4-9b7e-4b55-9c89-ac5408fb056c",
   "metadata": {},
   "outputs": [],
   "source": [
    "# now go to the calculate button and click on it\n",
    "calculate_button = driver.find_element(\"id\", 'calculateButton')\n",
    "calculate_button.click()"
   ]
  },
  {
   "cell_type": "code",
   "execution_count": 14,
   "id": "8eb49737-e0dc-40ec-86b2-7442dcd4573c",
   "metadata": {},
   "outputs": [
    {
     "name": "stdout",
     "output_type": "stream",
     "text": [
      "So result is: Answer:\n",
      "= 252\n",
      "Solution:\n",
      "C(n,r)=?\n",
      "C\n",
      "(\n",
      ")\n",
      "?\n",
      "C(n,r)=C(10,5)\n",
      "C\n",
      "(\n",
      ")\n",
      "C\n",
      "(\n",
      "10\n",
      "5\n",
      ")\n",
      "=\n",
      "10!\n",
      "(5!(10−5)!)\n",
      "10\n",
      "!\n",
      "=\n",
      "10!\n",
      "5!×5!\n",
      "10\n",
      "!\n",
      "= 252\n",
      "252\n"
     ]
    }
   ],
   "source": [
    "# read the answer from the result area\n",
    "result_area = driver.find_element(\"id\", \"calculatorAnswer\")\n",
    "result = result_area.text\n",
    "print (\"So result is:\", result)\n",
    "word_list = result.split(\"\\n\")\n",
    "final_answer = int(word_list[1].split(\" \")[1])\n",
    "print (final_answer)"
   ]
  },
  {
   "cell_type": "code",
   "execution_count": 9,
   "id": "580e294f-74ac-4894-97f7-3eede17a7f00",
   "metadata": {},
   "outputs": [],
   "source": [
    "driver.quit()"
   ]
  }
 ],
 "metadata": {
  "kernelspec": {
   "display_name": "Python 3 (ipykernel)",
   "language": "python",
   "name": "python3"
  },
  "language_info": {
   "codemirror_mode": {
    "name": "ipython",
    "version": 3
   },
   "file_extension": ".py",
   "mimetype": "text/x-python",
   "name": "python",
   "nbconvert_exporter": "python",
   "pygments_lexer": "ipython3",
   "version": "3.10.9"
  }
 },
 "nbformat": 4,
 "nbformat_minor": 5
}
